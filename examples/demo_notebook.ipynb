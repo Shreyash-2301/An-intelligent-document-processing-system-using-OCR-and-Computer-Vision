{
 "cells": [
  {
   "cell_type": "markdown",
   "id": "50fef4f1",
   "metadata": {},
   "source": [
    "# Intelligent Document Processing System Demo\n",
    "\n",
    "This notebook demonstrates how to use the Intelligent Document Processing System to extract information from documents using OCR and computer vision techniques.\n",
    "\n",
    "## Overview\n",
    "\n",
    "1. Setting up and configuring the system\n",
    "2. Loading and preprocessing images\n",
    "3. Performing OCR and extracting text\n",
    "4. Detecting and analyzing regions of interest\n",
    "5. Extracting structured data\n",
    "6. Generating reports"
   ]
  },
  {
   "cell_type": "code",
   "execution_count": null,
   "id": "ce454e8d",
   "metadata": {},
   "outputs": [],
   "source": [
    "# Import required libraries\n",
    "import os\n",
    "import yaml\n",
    "import cv2\n",
    "import numpy as np\n",
    "from pathlib import Path\n",
    "from src.ocr.processor import DocumentProcessor\n",
    "from src.vision.contour_detector import ContourDetector\n",
    "from src.ocr.data_extractor import DataExtractor\n",
    "from src.ocr.report_generator import ReportGenerator\n",
    "\n",
    "# Load configuration\n",
    "with open('../config.yaml', 'r') as f:\n",
    "    config = yaml.safe_load(f)"
   ]
  },
  {
   "cell_type": "markdown",
   "id": "e8e7eec4",
   "metadata": {},
   "source": [
    "## Creating Sample Document\n",
    "\n",
    "Let's create a sample document with text to demonstrate the system. We'll create an image with some text and save it for processing."
   ]
  },
  {
   "cell_type": "code",
   "execution_count": null,
   "id": "1bd8b112",
   "metadata": {},
   "outputs": [],
   "source": [
    "# Create a sample document image\n",
    "def create_sample_document():\n",
    "    # Create a white image\n",
    "    img = np.ones((800, 600), dtype=np.uint8) * 255\n",
    "    \n",
    "    # Add some text\n",
    "    font = cv2.FONT_HERSHEY_SIMPLEX\n",
    "    text_items = [\n",
    "        ('Technical Document', (50, 50), 1.5),\n",
    "        ('Document ID: TECH-2025-001', (50, 100), 1),\n",
    "        ('Date: 02/10/2025', (50, 150), 1),\n",
    "        ('Contact: info@example.com', (50, 200), 1),\n",
    "        ('Phone: +1-234-567-8900', (50, 250), 1),\n",
    "        ('Measurements:', (50, 300), 1),\n",
    "        ('Length: 123.45 mm', (70, 350), 0.8),\n",
    "        ('Width: 45.67 cm', (70, 400), 0.8),\n",
    "        ('Weight: 892.3 g', (70, 450), 0.8),\n",
    "        ('Total Cost: $1,234.56', (50, 500), 1)\n",
    "    ]\n",
    "    \n",
    "    for text, pos, scale in text_items:\n",
    "        cv2.putText(img, text, pos, font, scale, (0, 0, 0), 2)\n",
    "    \n",
    "    return img\n",
    "\n",
    "# Create and save the sample document\n",
    "sample_img = create_sample_document()\n",
    "sample_path = '../data/input/sample_doc.png'\n",
    "os.makedirs('../data/input', exist_ok=True)\n",
    "cv2.imwrite(sample_path, sample_img)\n",
    "\n",
    "# Display the image\n",
    "from IPython.display import Image\n",
    "Image(filename=sample_path)"
   ]
  },
  {
   "cell_type": "markdown",
   "id": "28323200",
   "metadata": {},
   "source": [
    "## Document Processing Pipeline\n",
    "\n",
    "Now let's process the document through our pipeline:\n",
    "1. OCR processing\n",
    "2. Contour detection\n",
    "3. Data extraction\n",
    "4. Report generation"
   ]
  },
  {
   "cell_type": "code",
   "execution_count": null,
   "id": "0f0aa3ea",
   "metadata": {},
   "outputs": [],
   "source": [
    "# Initialize components\n",
    "doc_processor = DocumentProcessor(ocr_engine=config['ocr']['engine'])\n",
    "contour_detector = ContourDetector(\n",
    "    min_area=config['image']['contours']['min_area'],\n",
    "    max_area=config['image']['contours']['max_area']\n",
    ")\n",
    "data_extractor = DataExtractor()\n",
    "report_generator = ReportGenerator(config['paths']['output_dir'])\n",
    "\n",
    "# Process the document\n",
    "print(\"1. Processing document with OCR...\")\n",
    "text = doc_processor.process(sample_path)\n",
    "print(\"\\nExtracted text:\")\n",
    "print(\"-\" * 50)\n",
    "print(text)\n",
    "print(\"-\" * 50)"
   ]
  },
  {
   "cell_type": "code",
   "execution_count": null,
   "id": "43ec15e7",
   "metadata": {},
   "outputs": [],
   "source": [
    "# Detect and extract regions\n",
    "print(\"\\n2. Detecting regions of interest...\")\n",
    "regions = contour_detector.process_image(sample_path, visualize=True)\n",
    "print(f\"Found {len(regions)} regions of interest\")\n",
    "\n",
    "# Display some regions\n",
    "for i, (roi, coords) in enumerate(regions[:3]):\n",
    "    print(f\"\\nRegion {i+1} coordinates (x, y, w, h):\", coords)\n",
    "    \n",
    "    # Save and display ROI\n",
    "    roi_path = f'../data/input/roi_{i}.png'\n",
    "    cv2.imwrite(roi_path, roi)\n",
    "    display(Image(filename=roi_path))"
   ]
  },
  {
   "cell_type": "code",
   "execution_count": null,
   "id": "748169cc",
   "metadata": {},
   "outputs": [],
   "source": [
    "# Extract structured data\n",
    "print(\"\\n3. Extracting structured data...\")\n",
    "extracted_data = data_extractor.process_text(text)\n",
    "\n",
    "print(\"\\nExtracted Data:\")\n",
    "print(\"-\" * 50)\n",
    "for key, values in extracted_data.items():\n",
    "    if isinstance(values, list) and key != 'tables':\n",
    "        print(f\"{key}:\")\n",
    "        for value in values:\n",
    "            print(f\"  - {value}\")\n",
    "print(\"-\" * 50)"
   ]
  },
  {
   "cell_type": "code",
   "execution_count": null,
   "id": "1f30a441",
   "metadata": {},
   "outputs": [],
   "source": [
    "# Generate reports\n",
    "print(\"\\n4. Generating reports...\")\n",
    "output_files = report_generator.generate_reports(\n",
    "    extracted_data,\n",
    "    base_filename=\"sample_doc\"\n",
    ")\n",
    "\n",
    "print(\"\\nGenerated Reports:\")\n",
    "print(\"-\" * 50)\n",
    "for report_type, file_path in output_files.items():\n",
    "    print(f\"{report_type}: {file_path}\")\n",
    "print(\"-\" * 50)\n",
    "\n",
    "# Display the visualization if available\n",
    "if 'visualization' in output_files:\n",
    "    display(Image(filename=output_files['visualization']))"
   ]
  },
  {
   "cell_type": "markdown",
   "id": "42360b0f",
   "metadata": {},
   "source": [
    "## Conclusion\n",
    "\n",
    "This notebook demonstrated the complete pipeline of the Intelligent Document Processing System:\n",
    "\n",
    "1. We created a sample document with various types of information\n",
    "2. Processed it through OCR to extract text\n",
    "3. Detected and extracted regions of interest using computer vision\n",
    "4. Extracted structured data using pattern matching\n",
    "5. Generated comprehensive reports in multiple formats\n",
    "\n",
    "The system can be easily adapted to work with different types of documents by:\n",
    "- Adjusting the configuration parameters in `config.yaml`\n",
    "- Adding new patterns for data extraction\n",
    "- Customizing the report generation formats and layouts"
   ]
  }
 ],
 "metadata": {
  "language_info": {
   "name": "python"
  }
 },
 "nbformat": 4,
 "nbformat_minor": 5
}
